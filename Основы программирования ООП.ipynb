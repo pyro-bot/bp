{
 "cells": [
  {
   "cell_type": "markdown",
   "metadata": {},
   "source": [
    "# ООП в Python\n",
    "\n",
    "Особенности ООП в Python:\n",
    "\n",
    "- Все объекты языка - это объекты(классы)  *все есть объект*\n",
    "- Инкапсуляция только на уровне соглашения\n",
    "- Создовать, изменять и удалять поля класса можно в ходе выполнения программы\n",
    "- Можно генерировать классы \"на лету\""
   ]
  },
  {
   "cell_type": "markdown",
   "metadata": {},
   "source": [
    "### Создания класса"
   ]
  },
  {
   "cell_type": "code",
   "execution_count": 5,
   "metadata": {},
   "outputs": [
    {
     "data": {
      "text/plain": [
       "<__main__.MyFirstClass at 0x21dfd140be0>"
      ]
     },
     "execution_count": 5,
     "metadata": {},
     "output_type": "execute_result"
    }
   ],
   "source": [
    "# Создаем класс\n",
    "class MyFirstClass:\n",
    "    pass\n",
    "\n",
    "# Создаем экземпляр класса\n",
    "my_first_class = MyFirstClass()\n",
    "\n",
    "my_first_class"
   ]
  },
  {
   "cell_type": "code",
   "execution_count": 14,
   "metadata": {},
   "outputs": [
    {
     "name": "stdout",
     "output_type": "stream",
     "text": [
      "I am init\n",
      "Hi unknow\n",
      "Hi Anatoliy\n",
      "Это документация\n",
      "Help on class My3Class in module __main__:\n",
      "\n",
      "class My3Class(builtins.object)\n",
      " |  Этот класс просто приветствует вас\n",
      " |  \n",
      " |  Methods defined here:\n",
      " |  \n",
      " |  __init__(self, name=None)\n",
      " |      Это конструктор\n",
      " |      name: str - Имя, если оставить пустымю, то будет заменено на \"unknow\"\n",
      " |  \n",
      " |  ----------------------------------------------------------------------\n",
      " |  Data descriptors defined here:\n",
      " |  \n",
      " |  __dict__\n",
      " |      dictionary for instance variables (if defined)\n",
      " |  \n",
      " |  __weakref__\n",
      " |      list of weak references to the object (if defined)\n",
      "\n",
      "и для 1 метода\n",
      "Help on function __init__ in module __main__:\n",
      "\n",
      "__init__(self, name=None)\n",
      "    Это конструктор\n",
      "    name: str - Имя, если оставить пустымю, то будет заменено на \"unknow\"\n",
      "\n"
     ]
    }
   ],
   "source": [
    "# Класс с конструктором\n",
    "class My2Class:\n",
    "    \n",
    "    def __init__(self):\n",
    "        print('I am init')\n",
    "        \n",
    "my_class = My2Class()\n",
    "\n",
    "# Класс с конструктором и параметрами\n",
    "class My3Class:\n",
    "    \"\"\"\n",
    "    Этот класс просто приветствует вас\n",
    "    \"\"\"\n",
    "    \n",
    "    def __init__(self, name=None):\n",
    "        \"\"\"\n",
    "        Это конструктор\n",
    "        name: str - Имя, если оставить пустымю, то будет заменено на \"unknow\"\n",
    "        \"\"\"\n",
    "        \n",
    "        print(f'Hi {name or \"unknow\"}')\n",
    "        \n",
    "my_3_class = My3Class()\n",
    "my_3_class = My3Class('Anatoliy')\n",
    "\n",
    "print('Это документация')\n",
    "help(My3Class)\n",
    "print('и для 1 метода')\n",
    "help(My3Class.__init__)"
   ]
  },
  {
   "cell_type": "markdown",
   "metadata": {},
   "source": [
    "### Статические и динамические поля класса"
   ]
  },
  {
   "cell_type": "code",
   "execution_count": 25,
   "metadata": {},
   "outputs": [
    {
     "name": "stdout",
     "output_type": "stream",
     "text": [
      "Hi человек\n",
      "Hi Anatoliy\n",
      "Изменяем поле promt\n",
      "Привет Anatoliy\n",
      "Hi человек\n",
      "Изменяем поле promt, ног уже у класса\n",
      "Привет Anatoliy\n",
      "Доброе утро человек\n",
      "Удалим поле promt из экземпляра my_class_anatoliy\n",
      "Доброе утро Anatoliy\n",
      "Доброе утро человек\n",
      "И теперь еще раз поменяем promt у класса\n",
      "Добрый вечер Anatoliy\n",
      "Добрый вечер человек\n"
     ]
    }
   ],
   "source": [
    "class MyClass:\n",
    "    \n",
    "#   Это статическое свойство\n",
    "    promt = 'Hi %s'\n",
    "    \n",
    "    def __init__(self, name=None):\n",
    "#       Это динмическое свойство\n",
    "        self.name = name or 'человек'\n",
    "    \n",
    "    def say_hi(self):\n",
    "        print(self.promt % self.name)\n",
    "\n",
    "my_class_unknow = MyClass()\n",
    "my_class_unknow.say_hi()\n",
    "\n",
    "my_class_anatoliy = MyClass('Anatoliy')\n",
    "my_class_anatoliy.say_hi()\n",
    "\n",
    "my_class_anatoliy.promt = 'Привет %s'\n",
    "\n",
    "print('Изменяем поле promt')\n",
    "my_class_anatoliy.say_hi()\n",
    "my_class_unknow.say_hi()\n",
    "\n",
    "print('Изменяем поле promt, ног уже у класса')\n",
    "MyClass.promt = 'Доброе утро %s'\n",
    "\n",
    "my_class_anatoliy.say_hi()\n",
    "my_class_unknow.say_hi()\n",
    "\n",
    "print('Удалим поле promt из экземпляра my_class_anatoliy')\n",
    "del my_class_anatoliy.promt\n",
    "\n",
    "my_class_anatoliy.say_hi()\n",
    "my_class_unknow.say_hi()\n",
    "\n",
    "print('И теперь еще раз поменяем promt у класса')\n",
    "MyClass.promt = 'Добрый вечер %s'\n",
    "\n",
    "my_class_anatoliy.say_hi()\n",
    "my_class_unknow.say_hi()\n",
    "\n"
   ]
  },
  {
   "cell_type": "markdown",
   "metadata": {},
   "source": [
    "### Инкапсуляция"
   ]
  },
  {
   "cell_type": "code",
   "execution_count": 49,
   "metadata": {},
   "outputs": [],
   "source": [
    "class Foo:\n",
    "    \n",
    "    def public_method(self, save_var):\n",
    "#         сохраняем переменную как protect поле\n",
    "        self.__save_var = save_var\n",
    "    \n",
    "    def _private_method(self):\n",
    "        print(self.__save_var)\n",
    "\n",
    "foo = Foo()"
   ]
  },
  {
   "cell_type": "code",
   "execution_count": 50,
   "metadata": {},
   "outputs": [],
   "source": [
    "# сохраняем строку\n",
    "foo.public_method('Number 13')"
   ]
  },
  {
   "cell_type": "code",
   "execution_count": 51,
   "metadata": {},
   "outputs": [
    {
     "ename": "AttributeError",
     "evalue": "'Foo' object has no attribute '__save_var'",
     "output_type": "error",
     "traceback": [
      "\u001b[1;31m---------------------------------------------------------------------------\u001b[0m",
      "\u001b[1;31mAttributeError\u001b[0m                            Traceback (most recent call last)",
      "\u001b[1;32m<ipython-input-51-1cf378d1d92f>\u001b[0m in \u001b[0;36m<module>\u001b[1;34m()\u001b[0m\n\u001b[0;32m      1\u001b[0m \u001b[1;31m# пытаемся получить сохраненое число\u001b[0m\u001b[1;33m\u001b[0m\u001b[1;33m\u001b[0m\u001b[0m\n\u001b[1;32m----> 2\u001b[1;33m \u001b[0mfoo\u001b[0m\u001b[1;33m.\u001b[0m\u001b[0m__save_var\u001b[0m\u001b[1;33m\u001b[0m\u001b[0m\n\u001b[0m",
      "\u001b[1;31mAttributeError\u001b[0m: 'Foo' object has no attribute '__save_var'"
     ]
    }
   ],
   "source": [
    "# пытаемся получить сохраненое число\n",
    "foo.__save_var"
   ]
  },
  {
   "cell_type": "code",
   "execution_count": 52,
   "metadata": {},
   "outputs": [
    {
     "data": {
      "text/plain": [
       "'Number 13'"
      ]
     },
     "execution_count": 52,
     "metadata": {},
     "output_type": "execute_result"
    }
   ],
   "source": [
    "# но так работает\n",
    "foo._Foo__save_var"
   ]
  },
  {
   "cell_type": "code",
   "execution_count": 53,
   "metadata": {},
   "outputs": [
    {
     "name": "stdout",
     "output_type": "stream",
     "text": [
      "Number 13\n"
     ]
    }
   ],
   "source": [
    "# а теперь получим сохраненое значение через приватный метод\n",
    "foo._private_method()"
   ]
  },
  {
   "cell_type": "markdown",
   "metadata": {},
   "source": [
    "### Наследование и полиморфизм"
   ]
  },
  {
   "cell_type": "code",
   "execution_count": 57,
   "metadata": {},
   "outputs": [
    {
     "name": "stdout",
     "output_type": "stream",
     "text": [
      "Init A\n",
      "init B\n",
      "Init A\n",
      "init C\n",
      "Say\n",
      "end\n"
     ]
    }
   ],
   "source": [
    "class A:\n",
    "    \n",
    "    def __init__(self):\n",
    "        print('Init A')\n",
    "        \n",
    "        \n",
    "class B(A):\n",
    "    \n",
    "    def __init__(self):\n",
    "        print('init B')\n",
    "        \n",
    "\n",
    "class C(A):\n",
    "    \n",
    "    def __init__(self):\n",
    "        super().__init__()\n",
    "        print('init C')\n",
    "        \n",
    "    def say(self):\n",
    "        print('Say')\n",
    "A()\n",
    "B()\n",
    "C().say()\n",
    "print('end')"
   ]
  },
  {
   "cell_type": "markdown",
   "metadata": {},
   "source": [
    "### Магические методы"
   ]
  },
  {
   "cell_type": "code",
   "execution_count": null,
   "metadata": {},
   "outputs": [],
   "source": []
  }
 ],
 "metadata": {
  "kernelspec": {
   "display_name": "Python 3",
   "language": "python",
   "name": "python3"
  },
  "language_info": {
   "codemirror_mode": {
    "name": "ipython",
    "version": 3
   },
   "file_extension": ".py",
   "mimetype": "text/x-python",
   "name": "python",
   "nbconvert_exporter": "python",
   "pygments_lexer": "ipython3",
   "version": "3.6.5"
  }
 },
 "nbformat": 4,
 "nbformat_minor": 4
}
