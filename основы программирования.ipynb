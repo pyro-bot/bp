{
 "cells": [
  {
   "cell_type": "markdown",
   "metadata": {},
   "source": [
    "# Введение в Python\n",
    "\n",
    "# О языке\n",
    "\n",
    "    Python — высокоуровневый язык программирования общего назначения, ориентированный на повышение производительности разработчика и читаемости кода. Синтаксис ядра Python минималистичен. В то же время стандартная библиотека включает большой объём полезных функций. \n",
    "    \n",
    "Учебник: https://pythonworld.ru/uploads/pythonworldru.pdf\n"
   ]
  },
  {
   "cell_type": "markdown",
   "metadata": {},
   "source": [
    "## Философия\n",
    "\n",
    "- Красивое лучше, чем уродливое.\n",
    "- Явное лучше, чем неявное.\n",
    "- Простое лучше, чем сложное.\n",
    "- Сложное лучше, чем запутанное.\n",
    "- Плоское лучше, чем вложенное.\n",
    "- Разреженное лучше, чем плотное.\n",
    "- Читаемость имеет значение.\n",
    "- Особые случаи не настолько особые, чтобы нарушать правила.\n",
    "- При этом практичность важнее безупречности.\n",
    "- Ошибки никогда не должны замалчиваться.\n",
    "- Если не замалчиваются явно.\n",
    "- Встретив двусмысленность, отбрось искушение угадать.\n",
    "- Должен существовать один — и, желательно, только один — очевидный способ сделать это.\n",
    "- Хотя он поначалу может быть и не очевиден, если вы не голландец *(отсылка к создателю языка)*.\n",
    "- Сейчас лучше, чем никогда.\n",
    "- Хотя никогда зачастую лучше, чем прямо сейчас.\n",
    "- Если реализацию сложно объяснить — идея плоха.\n",
    "- Если реализацию легко объяснить — идея, возможно, хороша.\n",
    "- Пространства имён — отличная вещь! Давайте будем делать их больше!"
   ]
  },
  {
   "cell_type": "markdown",
   "metadata": {},
   "source": [
    "## Система типов\n",
    "\n",
    "Язык поддерживает динамическую типизацию, то есть тип переменной определяется только во время исполнения. Поэтому вместо «присваивания значения переменной» лучше говорить о «связывании значения с некоторым именем». В Python имеются встроенные типы: булевый, строка, Unicode-строка, целое число произвольной точности, число с плавающей запятой, комплексное число и некоторые другие. Из коллекций в Python встроены: список, кортеж (неизменяемый список), словарь, множество и другие. Все значения являются объектами, в том числе функции, методы, модули, классы. \n",
    "\n",
    "Добавить новый тип можно либо написав класс (class), либо определив новый тип в модуле расширения (например, написанном на языке C). Система классов поддерживает наследование (одиночное и множественное) и метапрограммирование. Возможно наследование от большинства встроенных типов и типов расширений. \n",
    "\n",
    "Все объекты делятся на ссылочные и атомарные. К атомарным относятся int, complex и некоторые другие. При присваивании атомарных объектов копируется их значение, в то время как для ссылочных копируется только указатель на объект, таким образом, обе переменные после присваивания используют одно и то же значение. Ссылочные объекты бывают изменяемые и неизменяемые. Например, строки и кортежи являются неизменяемыми, а списки, словари и многие другие объекты — изменяемыми. Кортеж в Python является, по сути, неизменяемым списком. Во многих случаях кортежи работают быстрее списков, поэтому если вы не планируете изменять последовательность, то лучше использовать именно их. "
   ]
  },
  {
   "cell_type": "markdown",
   "metadata": {},
   "source": [
    "<img src=\"./res/Python_3._The_standard_type_hierarchy.png\"></img>"
   ]
  },
  {
   "cell_type": "markdown",
   "metadata": {},
   "source": [
    "## Синтаксис\n",
    "\n",
    "### Операторы\n",
    "\n",
    "- Условный оператор if (если). Альтернативный блок после else (иначе). Если условий и альтернатив несколько, можно использовать elif (сокр. от else if).\n",
    "- Операторы цикла while (пока) и for (для). Внутри цикла возможно применение break и continue для прерывания цикла и перехода сразу к следующей итерации, соответственно.\n",
    "- Оператор определения класса class.\n",
    "- Оператор определения функции, метода или генератора def. Внутри возможно применение return (возврат) для возврата из функции или метода, а в случае генератора — yield (давать).\n",
    "- Оператор обработки исключений try — except — finally \n",
    "- Оператор pass ничего не делает. Используется для пустых блоков кода.\n",
    "\n",
    "### Выражения"
   ]
  },
  {
   "cell_type": "code",
   "execution_count": 3,
   "metadata": {},
   "outputs": [
    {
     "name": "stdout",
     "output_type": "stream",
     "text": [
      "Hello world\n"
     ]
    }
   ],
   "source": [
    "str_var = \"world\"\n",
    "print(\"Hello %s\" % str_var)"
   ]
  },
  {
   "cell_type": "code",
   "execution_count": 12,
   "metadata": {},
   "outputs": [
    {
     "data": {
      "text/plain": [
       "True"
      ]
     },
     "execution_count": 12,
     "metadata": {},
     "output_type": "execute_result"
    }
   ],
   "source": [
    "a = 5\n",
    "b = 3\n",
    "1 <= a < 10 and 1 <= b < 20"
   ]
  },
  {
   "cell_type": "markdown",
   "metadata": {},
   "source": [
    "Кроме того, логические операции (or и and) являются ленивыми: если для вычисления значения операции достаточно первого операнда, этот операнд и является результатом, в противном случае вычисляется второй операнд логической операции. Это основывается на свойствах алгебры логики"
   ]
  },
  {
   "cell_type": "code",
   "execution_count": 11,
   "metadata": {},
   "outputs": [
    {
     "data": {
      "text/plain": [
       "'больше или равно'"
      ]
     },
     "execution_count": 11,
     "metadata": {},
     "output_type": "execute_result"
    }
   ],
   "source": [
    "a < b and \"меньше\" or \"больше или равно\""
   ]
  },
  {
   "cell_type": "markdown",
   "metadata": {},
   "source": [
    "Типы данных"
   ]
  },
  {
   "cell_type": "code",
   "execution_count": 15,
   "metadata": {},
   "outputs": [
    {
     "data": {
      "text/plain": [
       "<function __main__.<lambda>(x)>"
      ]
     },
     "execution_count": 15,
     "metadata": {},
     "output_type": "execute_result"
    }
   ],
   "source": [
    "\"строка и Юникод-строка одновременно\"\n",
    "'строка и Юникод-строка одновременно'\n",
    "\"\"\"тоже строка и Юникод-строка одновременно\"\"\"\n",
    "True or False  # булевы литералы\n",
    "3.14  # число с плавающей запятой\n",
    "0b1010 + 0o12 + 0xA  # числа в двоичной, восьмеричной и шестнадцатеричной системах счисления\n",
    "1 + 2j  # комплексное число\n",
    "[1, 2, \"a\"]  # список\n",
    "(1, 2, \"a\")  # кортеж\n",
    "{'a': 1, 'b': 'B'}  # словарь\n",
    "{'a', 6, 8.8}  # множество\n",
    "lambda x: x**2  # анонимная функция"
   ]
  },
  {
   "cell_type": "markdown",
   "metadata": {},
   "source": [
    "## Условия"
   ]
  },
  {
   "cell_type": "code",
   "execution_count": null,
   "metadata": {},
   "outputs": [],
   "source": [
    "if test1:\n",
    "    state1\n",
    "elif test2:\n",
    "    state2\n",
    "else:\n",
    "    state3"
   ]
  },
  {
   "cell_type": "code",
   "execution_count": 19,
   "metadata": {},
   "outputs": [
    {
     "name": "stdout",
     "output_type": "stream",
     "text": [
      "Больше\n"
     ]
    }
   ],
   "source": [
    "if 1 > 0:\n",
    "    print('Больше')\n",
    "else:\n",
    "    print('Меньше')"
   ]
  },
  {
   "cell_type": "markdown",
   "metadata": {},
   "source": [
    "### Правила впроверки истинности\n",
    "\n",
    "- Любое число, не равное 0 или непустой объект - истина (True)\n",
    "- Числа равные 0, пустые объекты и значения None - ложь (False)\n",
    "- Операции сравнения возвращают True и False\n",
    "- Логические операторы nad и or возвращают истинный или ложный объект-операнд"
   ]
  },
  {
   "cell_type": "markdown",
   "metadata": {},
   "source": [
    "## Циклы\n",
    "\n",
    "В Python всего 2 типа циклов:\n",
    "\n",
    "- While\n",
    "- For"
   ]
  },
  {
   "cell_type": "code",
   "execution_count": 25,
   "metadata": {},
   "outputs": [
    {
     "name": "stdout",
     "output_type": "stream",
     "text": [
      "Пример 1\n",
      "5\n",
      "7\n",
      "9\n",
      "11\n",
      "13\n",
      "\n",
      "Пример 2\n",
      "10\n",
      "13\n"
     ]
    }
   ],
   "source": [
    "# Цикл while\n",
    "\n",
    "print('Пример 1')\n",
    "i = 5\n",
    "while i < 15:\n",
    "    print(i)\n",
    "    i = i + 2\n",
    "    \n",
    "#или так\n",
    "print('\\nПример 2')\n",
    "i = 10\n",
    "while i < 15:\n",
    "    print(i)\n",
    "    i += 3\n"
   ]
  },
  {
   "cell_type": "code",
   "execution_count": 29,
   "metadata": {},
   "outputs": [
    {
     "name": "stdout",
     "output_type": "stream",
     "text": [
      "Пример 1\n",
      "0\n",
      "1\n",
      "2\n",
      "3\n",
      "4\n",
      "Пример 2\n",
      "5\n",
      "6\n",
      "7\n",
      "8\n",
      "9\n",
      "10\n",
      "11\n",
      "12\n",
      "13\n",
      "14\n",
      "15\n",
      "Пример 3\n",
      "5\n",
      "7\n",
      "9\n",
      "11\n",
      "13\n",
      "15\n"
     ]
    }
   ],
   "source": [
    "#Цикл for (простой)\n",
    "\n",
    "print('Пример 1')\n",
    "for i in range(5):\n",
    "    print(i)\n",
    "    \n",
    "    \n",
    "print('Пример 2')\n",
    "for i in range(5, 16):\n",
    "    print(i)\n",
    "    \n",
    "print('Пример 3')\n",
    "for i in range(5, 16, 2):\n",
    "    print(i)"
   ]
  },
  {
   "cell_type": "code",
   "execution_count": 36,
   "metadata": {},
   "outputs": [
    {
     "name": "stdout",
     "output_type": "stream",
     "text": [
      "Пример 1\n",
      "П\n",
      "р\n",
      "и\n",
      "в\n",
      "е\n",
      "т\n",
      " \n",
      "м\n",
      "и\n",
      "р\n",
      "Пример 2\n",
      "1\n",
      "4\n",
      "9\n",
      "25\n",
      "Пример 3\n",
      "1\n",
      "4\n",
      "9\n",
      "25\n",
      "Пример 4\n",
      "Привет мир\n",
      "ПРИВЕТ МИР\n"
     ]
    }
   ],
   "source": [
    "#Цикл for (iter obj)\n",
    "\n",
    "print('Пример 1')\n",
    "for i in \"Привет мир\":\n",
    "    print(i)\n",
    "    \n",
    "\n",
    "# for (int i = 0; i <  a.Length; i++ ) {Console.WriteLine(Math.Pow(a[i], 2));}\n",
    "print('Пример 2')\n",
    "for i in [1, 2, 3, 5]:\n",
    "    print(i**2)\n",
    "    \n",
    "print('Пример 3')\n",
    "a = [1, 2, 3, 5]\n",
    "for i in range(len(a)):\n",
    "    print(a[i]**2)\n",
    "\n",
    "#     ===============================================================\n",
    "\n",
    "\n",
    "print('Пример 4')\n",
    "for s in [\"мир\", 'world', 'Привет мир', 'ПРИВЕТ МИР']:\n",
    "    if s.lower() == 'привет мир':\n",
    "        print(s)"
   ]
  },
  {
   "cell_type": "markdown",
   "metadata": {},
   "source": [
    "## Ключевые слова\n",
    "\n",
    "- False/True - Ложь/Истинна\n",
    "- None - пустой объект\n",
    "- try/except/finally - перехват исключений\n",
    "- if/elif/else - условия\n",
    "- and/or/not - логические операторы\n",
    "- with ... as - менеджер контекста\n",
    "- assert - условия - выбрасывающее исключение при False\n",
    "- for - цикл фор\n",
    "- while - цикл while\n",
    "- break/continue - контроль выполнения циклов\n",
    "- class - классы\n",
    "- def - объявление функции\n",
    "- lambda - объявление однострочной функции\n",
    "- del - удаление объекта из памяти\n",
    "- import ...  - импортирование модуля\n",
    "from ... import .. - импортирования объекта из модуля\n",
    "- global - доступ к работе с глобальными переменными\n",
    "- nonlocal - доступ к работе к не локальными переменными\n",
    "- in - проверка на вхождения одного элимента в массив\n",
    "- is - проверка, что 2 объекта ссылаются на один участок памяти\n",
    "- pass - пустой оператор\n",
    "- raise - выброс исключения\n",
    "- return - возврат значения из функции\n",
    "- yield - как return, но без завершения работы функции (генератор)"
   ]
  },
  {
   "cell_type": "markdown",
   "metadata": {},
   "source": [
    "## Встроенные функции\n",
    "\n",
    "<table class=\"docutils align-center\">\n",
    "<colgroup>\n",
    "<col style=\"width: 21%\">\n",
    "<col style=\"width: 18%\">\n",
    "<col style=\"width: 20%\">\n",
    "<col style=\"width: 20%\">\n",
    "<col style=\"width: 22%\">\n",
    "</colgroup>\n",
    "<thead>\n",
    "<tr class=\"row-odd\"><th class=\"head\"></th>\n",
    "<th class=\"head\"></th>\n",
    "<th class=\"head\"><p>Built-in Functions</p></th>\n",
    "<th class=\"head\"></th>\n",
    "<th class=\"head\"></th>\n",
    "</tr>\n",
    "</thead>\n",
    "<tbody>\n",
    "<tr class=\"row-even\"><td><p><a class=\"reference internal\" href=\"#abs\" title=\"abs\"><code class=\"xref py py-func docutils literal notranslate\"><span class=\"pre\">abs()</span></code></a></p></td>\n",
    "<td><p><a class=\"reference internal\" href=\"#delattr\" title=\"delattr\"><code class=\"xref py py-func docutils literal notranslate\"><span class=\"pre\">delattr()</span></code></a></p></td>\n",
    "<td><p><a class=\"reference internal\" href=\"#hash\" title=\"hash\"><code class=\"xref py py-func docutils literal notranslate\"><span class=\"pre\">hash()</span></code></a></p></td>\n",
    "<td><p><a class=\"reference internal\" href=\"#func-memoryview\"><code class=\"docutils literal notranslate\"><span class=\"pre\">memoryview()</span></code></a></p></td>\n",
    "<td><p><a class=\"reference internal\" href=\"#func-set\"><code class=\"docutils literal notranslate\"><span class=\"pre\">set()</span></code></a></p></td>\n",
    "</tr>\n",
    "<tr class=\"row-odd\"><td><p><a class=\"reference internal\" href=\"#all\" title=\"all\"><code class=\"xref py py-func docutils literal notranslate\"><span class=\"pre\">all()</span></code></a></p></td>\n",
    "<td><p><a class=\"reference internal\" href=\"#func-dict\"><code class=\"docutils literal notranslate\"><span class=\"pre\">dict()</span></code></a></p></td>\n",
    "<td><p><a class=\"reference internal\" href=\"#help\" title=\"help\"><code class=\"xref py py-func docutils literal notranslate\"><span class=\"pre\">help()</span></code></a></p></td>\n",
    "<td><p><a class=\"reference internal\" href=\"#min\" title=\"min\"><code class=\"xref py py-func docutils literal notranslate\"><span class=\"pre\">min()</span></code></a></p></td>\n",
    "<td><p><a class=\"reference internal\" href=\"#setattr\" title=\"setattr\"><code class=\"xref py py-func docutils literal notranslate\"><span class=\"pre\">setattr()</span></code></a></p></td>\n",
    "</tr>\n",
    "<tr class=\"row-even\"><td><p><a class=\"reference internal\" href=\"#any\" title=\"any\"><code class=\"xref py py-func docutils literal notranslate\"><span class=\"pre\">any()</span></code></a></p></td>\n",
    "<td><p><a class=\"reference internal\" href=\"#dir\" title=\"dir\"><code class=\"xref py py-func docutils literal notranslate\"><span class=\"pre\">dir()</span></code></a></p></td>\n",
    "<td><p><a class=\"reference internal\" href=\"#hex\" title=\"hex\"><code class=\"xref py py-func docutils literal notranslate\"><span class=\"pre\">hex()</span></code></a></p></td>\n",
    "<td><p><a class=\"reference internal\" href=\"#next\" title=\"next\"><code class=\"xref py py-func docutils literal notranslate\"><span class=\"pre\">next()</span></code></a></p></td>\n",
    "<td><p><a class=\"reference internal\" href=\"#slice\" title=\"slice\"><code class=\"xref py py-func docutils literal notranslate\"><span class=\"pre\">slice()</span></code></a></p></td>\n",
    "</tr>\n",
    "<tr class=\"row-odd\"><td><p><a class=\"reference internal\" href=\"#ascii\" title=\"ascii\"><code class=\"xref py py-func docutils literal notranslate\"><span class=\"pre\">ascii()</span></code></a></p></td>\n",
    "<td><p><a class=\"reference internal\" href=\"#divmod\" title=\"divmod\"><code class=\"xref py py-func docutils literal notranslate\"><span class=\"pre\">divmod()</span></code></a></p></td>\n",
    "<td><p><a class=\"reference internal\" href=\"#id\" title=\"id\"><code class=\"xref py py-func docutils literal notranslate\"><span class=\"pre\">id()</span></code></a></p></td>\n",
    "<td><p><a class=\"reference internal\" href=\"#object\" title=\"object\"><code class=\"xref py py-func docutils literal notranslate\"><span class=\"pre\">object()</span></code></a></p></td>\n",
    "<td><p><a class=\"reference internal\" href=\"#sorted\" title=\"sorted\"><code class=\"xref py py-func docutils literal notranslate\"><span class=\"pre\">sorted()</span></code></a></p></td>\n",
    "</tr>\n",
    "<tr class=\"row-even\"><td><p><a class=\"reference internal\" href=\"#bin\" title=\"bin\"><code class=\"xref py py-func docutils literal notranslate\"><span class=\"pre\">bin()</span></code></a></p></td>\n",
    "<td><p><a class=\"reference internal\" href=\"#enumerate\" title=\"enumerate\"><code class=\"xref py py-func docutils literal notranslate\"><span class=\"pre\">enumerate()</span></code></a></p></td>\n",
    "<td><p><a class=\"reference internal\" href=\"#input\" title=\"input\"><code class=\"xref py py-func docutils literal notranslate\"><span class=\"pre\">input()</span></code></a></p></td>\n",
    "<td><p><a class=\"reference internal\" href=\"#oct\" title=\"oct\"><code class=\"xref py py-func docutils literal notranslate\"><span class=\"pre\">oct()</span></code></a></p></td>\n",
    "<td><p><a class=\"reference internal\" href=\"#staticmethod\" title=\"staticmethod\"><code class=\"xref py py-func docutils literal notranslate\"><span class=\"pre\">staticmethod()</span></code></a></p></td>\n",
    "</tr>\n",
    "<tr class=\"row-odd\"><td><p><a class=\"reference internal\" href=\"#bool\" title=\"bool\"><code class=\"xref py py-func docutils literal notranslate\"><span class=\"pre\">bool()</span></code></a></p></td>\n",
    "<td><p><a class=\"reference internal\" href=\"#eval\" title=\"eval\"><code class=\"xref py py-func docutils literal notranslate\"><span class=\"pre\">eval()</span></code></a></p></td>\n",
    "<td><p><a class=\"reference internal\" href=\"#int\" title=\"int\"><code class=\"xref py py-func docutils literal notranslate\"><span class=\"pre\">int()</span></code></a></p></td>\n",
    "<td><p><a class=\"reference internal\" href=\"#open\" title=\"open\"><code class=\"xref py py-func docutils literal notranslate\"><span class=\"pre\">open()</span></code></a></p></td>\n",
    "<td><p><a class=\"reference internal\" href=\"#func-str\"><code class=\"docutils literal notranslate\"><span class=\"pre\">str()</span></code></a></p></td>\n",
    "</tr>\n",
    "<tr class=\"row-even\"><td><p><a class=\"reference internal\" href=\"#breakpoint\" title=\"breakpoint\"><code class=\"xref py py-func docutils literal notranslate\"><span class=\"pre\">breakpoint()</span></code></a></p></td>\n",
    "<td><p><a class=\"reference internal\" href=\"#exec\" title=\"exec\"><code class=\"xref py py-func docutils literal notranslate\"><span class=\"pre\">exec()</span></code></a></p></td>\n",
    "<td><p><a class=\"reference internal\" href=\"#isinstance\" title=\"isinstance\"><code class=\"xref py py-func docutils literal notranslate\"><span class=\"pre\">isinstance()</span></code></a></p></td>\n",
    "<td><p><a class=\"reference internal\" href=\"#ord\" title=\"ord\"><code class=\"xref py py-func docutils literal notranslate\"><span class=\"pre\">ord()</span></code></a></p></td>\n",
    "<td><p><a class=\"reference internal\" href=\"#sum\" title=\"sum\"><code class=\"xref py py-func docutils literal notranslate\"><span class=\"pre\">sum()</span></code></a></p></td>\n",
    "</tr>\n",
    "<tr class=\"row-odd\"><td><p><a class=\"reference internal\" href=\"#func-bytearray\"><code class=\"docutils literal notranslate\"><span class=\"pre\">bytearray()</span></code></a></p></td>\n",
    "<td><p><a class=\"reference internal\" href=\"#filter\" title=\"filter\"><code class=\"xref py py-func docutils literal notranslate\"><span class=\"pre\">filter()</span></code></a></p></td>\n",
    "<td><p><a class=\"reference internal\" href=\"#issubclass\" title=\"issubclass\"><code class=\"xref py py-func docutils literal notranslate\"><span class=\"pre\">issubclass()</span></code></a></p></td>\n",
    "<td><p><a class=\"reference internal\" href=\"#pow\" title=\"pow\"><code class=\"xref py py-func docutils literal notranslate\"><span class=\"pre\">pow()</span></code></a></p></td>\n",
    "<td><p><a class=\"reference internal\" href=\"#super\" title=\"super\"><code class=\"xref py py-func docutils literal notranslate\"><span class=\"pre\">super()</span></code></a></p></td>\n",
    "</tr>\n",
    "<tr class=\"row-even\"><td><p><a class=\"reference internal\" href=\"#func-bytes\"><code class=\"docutils literal notranslate\"><span class=\"pre\">bytes()</span></code></a></p></td>\n",
    "<td><p><a class=\"reference internal\" href=\"#float\" title=\"float\"><code class=\"xref py py-func docutils literal notranslate\"><span class=\"pre\">float()</span></code></a></p></td>\n",
    "<td><p><a class=\"reference internal\" href=\"#iter\" title=\"iter\"><code class=\"xref py py-func docutils literal notranslate\"><span class=\"pre\">iter()</span></code></a></p></td>\n",
    "<td><p><a class=\"reference internal\" href=\"#print\" title=\"print\"><code class=\"xref py py-func docutils literal notranslate\"><span class=\"pre\">print()</span></code></a></p></td>\n",
    "<td><p><a class=\"reference internal\" href=\"#func-tuple\"><code class=\"docutils literal notranslate\"><span class=\"pre\">tuple()</span></code></a></p></td>\n",
    "</tr>\n",
    "<tr class=\"row-odd\"><td><p><a class=\"reference internal\" href=\"#callable\" title=\"callable\"><code class=\"xref py py-func docutils literal notranslate\"><span class=\"pre\">callable()</span></code></a></p></td>\n",
    "<td><p><a class=\"reference internal\" href=\"#format\" title=\"format\"><code class=\"xref py py-func docutils literal notranslate\"><span class=\"pre\">format()</span></code></a></p></td>\n",
    "<td><p><a class=\"reference internal\" href=\"#len\" title=\"len\"><code class=\"xref py py-func docutils literal notranslate\"><span class=\"pre\">len()</span></code></a></p></td>\n",
    "<td><p><a class=\"reference internal\" href=\"#property\" title=\"property\"><code class=\"xref py py-func docutils literal notranslate\"><span class=\"pre\">property()</span></code></a></p></td>\n",
    "<td><p><a class=\"reference internal\" href=\"#type\" title=\"type\"><code class=\"xref py py-func docutils literal notranslate\"><span class=\"pre\">type()</span></code></a></p></td>\n",
    "</tr>\n",
    "<tr class=\"row-even\"><td><p><a class=\"reference internal\" href=\"#chr\" title=\"chr\"><code class=\"xref py py-func docutils literal notranslate\"><span class=\"pre\">chr()</span></code></a></p></td>\n",
    "<td><p><a class=\"reference internal\" href=\"#func-frozenset\"><code class=\"docutils literal notranslate\"><span class=\"pre\">frozenset()</span></code></a></p></td>\n",
    "<td><p><a class=\"reference internal\" href=\"#func-list\"><code class=\"docutils literal notranslate\"><span class=\"pre\">list()</span></code></a></p></td>\n",
    "<td><p><a class=\"reference internal\" href=\"#func-range\"><code class=\"docutils literal notranslate\"><span class=\"pre\">range()</span></code></a></p></td>\n",
    "<td><p><a class=\"reference internal\" href=\"#vars\" title=\"vars\"><code class=\"xref py py-func docutils literal notranslate\"><span class=\"pre\">vars()</span></code></a></p></td>\n",
    "</tr>\n",
    "<tr class=\"row-odd\"><td><p><a class=\"reference internal\" href=\"#classmethod\" title=\"classmethod\"><code class=\"xref py py-func docutils literal notranslate\"><span class=\"pre\">classmethod()</span></code></a></p></td>\n",
    "<td><p><a class=\"reference internal\" href=\"#getattr\" title=\"getattr\"><code class=\"xref py py-func docutils literal notranslate\"><span class=\"pre\">getattr()</span></code></a></p></td>\n",
    "<td><p><a class=\"reference internal\" href=\"#locals\" title=\"locals\"><code class=\"xref py py-func docutils literal notranslate\"><span class=\"pre\">locals()</span></code></a></p></td>\n",
    "<td><p><a class=\"reference internal\" href=\"#repr\" title=\"repr\"><code class=\"xref py py-func docutils literal notranslate\"><span class=\"pre\">repr()</span></code></a></p></td>\n",
    "<td><p><a class=\"reference internal\" href=\"#zip\" title=\"zip\"><code class=\"xref py py-func docutils literal notranslate\"><span class=\"pre\">zip()</span></code></a></p></td>\n",
    "</tr>\n",
    "<tr class=\"row-even\"><td><p><a class=\"reference internal\" href=\"#compile\" title=\"compile\"><code class=\"xref py py-func docutils literal notranslate\"><span class=\"pre\">compile()</span></code></a></p></td>\n",
    "<td><p><a class=\"reference internal\" href=\"#globals\" title=\"globals\"><code class=\"xref py py-func docutils literal notranslate\"><span class=\"pre\">globals()</span></code></a></p></td>\n",
    "<td><p><a class=\"reference internal\" href=\"#map\" title=\"map\"><code class=\"xref py py-func docutils literal notranslate\"><span class=\"pre\">map()</span></code></a></p></td>\n",
    "<td><p><a class=\"reference internal\" href=\"#reversed\" title=\"reversed\"><code class=\"xref py py-func docutils literal notranslate\"><span class=\"pre\">reversed()</span></code></a></p></td>\n",
    "<td><p><a class=\"reference internal\" href=\"#__import__\" title=\"__import__\"><code class=\"xref py py-func docutils literal notranslate\"><span class=\"pre\">__import__()</span></code></a></p></td>\n",
    "</tr>\n",
    "<tr class=\"row-odd\"><td><p><a class=\"reference internal\" href=\"#complex\" title=\"complex\"><code class=\"xref py py-func docutils literal notranslate\"><span class=\"pre\">complex()</span></code></a></p></td>\n",
    "<td><p><a class=\"reference internal\" href=\"#hasattr\" title=\"hasattr\"><code class=\"xref py py-func docutils literal notranslate\"><span class=\"pre\">hasattr()</span></code></a></p></td>\n",
    "<td><p><a class=\"reference internal\" href=\"#max\" title=\"max\"><code class=\"xref py py-func docutils literal notranslate\"><span class=\"pre\">max()</span></code></a></p></td>\n",
    "<td><p><a class=\"reference internal\" href=\"#round\" title=\"round\"><code class=\"xref py py-func docutils literal notranslate\"><span class=\"pre\">round()</span></code></a></p></td>\n",
    "<td></td>\n",
    "</tr>\n",
    "</tbody>\n",
    "</table>"
   ]
  },
  {
   "cell_type": "markdown",
   "metadata": {},
   "source": [
    "## Обработка ошибок\n",
    "\n",
    "Обработка исключений поддерживается в Python посредством операторов try, except, else, finally, raise, образующих блок обработки исключения. В общем случае блок выглядит следующим образом: "
   ]
  },
  {
   "cell_type": "code",
   "execution_count": null,
   "metadata": {},
   "outputs": [],
   "source": [
    "try:\n",
    "    # Здесь код, который может вызвать исключение\n",
    "    raise Exception(\"message\")  # Exception, это один из стандартных типов исключения (всего лишь класс),\n",
    "                                # может использоваться любой другой, в том числе свой\n",
    "except (Тип исключения1, Тип исключения2, …) as Переменная:\n",
    "    # Код в блоке выполняется, если тип исключения совпадает с одним из типов\n",
    "    # (Тип исключения1, Тип исключения2, …) или является наследником одного\n",
    "    # из этих типов.\n",
    "    # Полученное исключение доступно в необязательной Переменной.\n",
    "except (Тип исключения3, Тип исключения4, …) as Переменная:\n",
    "    # Количество блоков except не ограничено\n",
    "    raise  # Сгенерировать исключение \"поверх\" полученного; без параметров - повторно сгенерировать полученное\n",
    "except:\n",
    "    # Будет выполнено при любом исключении, не обработанном типизированными блоками except\n",
    "else:\n",
    "    # Код блока выполняется, если не было поймано исключений.\n",
    "finally:\n",
    "    # Будет исполнено в любом случае, возможно после соответствующего\n",
    "    # блока except или else"
   ]
  },
  {
   "cell_type": "markdown",
   "metadata": {},
   "source": [
    "## Списки, словари, кортежы"
   ]
  },
  {
   "cell_type": "code",
   "execution_count": 3,
   "metadata": {},
   "outputs": [],
   "source": [
    "# создание массива\n",
    "arr = [1, 2, 3, 4, 5]\n",
    "\n",
    "# Создаем кортеж\n",
    "arr_tumple = (1, 2, 3, 4, 5)\n",
    "\n",
    "# Создаем словарь\n",
    "dictionary = {\n",
    "    'key1': '123',\n",
    "    'key2': [1, 2, 3],\n",
    "    'default_key': -100,\n",
    "    'any_key': 0.99\n",
    "}\n"
   ]
  },
  {
   "cell_type": "markdown",
   "metadata": {},
   "source": [
    "### Срезы"
   ]
  },
  {
   "cell_type": "code",
   "execution_count": null,
   "metadata": {},
   "outputs": [],
   "source": []
  },
  {
   "cell_type": "markdown",
   "metadata": {},
   "source": [
    "### Работа со словарем"
   ]
  },
  {
   "cell_type": "code",
   "execution_count": null,
   "metadata": {},
   "outputs": [],
   "source": []
  },
  {
   "cell_type": "markdown",
   "metadata": {},
   "source": [
    "## Функции"
   ]
  },
  {
   "cell_type": "code",
   "execution_count": 13,
   "metadata": {},
   "outputs": [],
   "source": [
    "# Объявление функции\n",
    "def my_first_function(param1, param2):\n",
    "    print(f'Были переданы 2 параметра: {param1}, {param2}')\n",
    "    \n",
    "my_first_function('123', ['Hi', 'world'])\n",
    "\n",
    "# Функция с именоваными аргументами\n",
    "def func2(param1='No name', param2='Hi %s'):\n",
    "    print(param2 % param1)\n",
    "\n",
    "func2()\n",
    "func2('Anatoliy')\n",
    "func2('Anatoliy', 'Привет %s')\n",
    "func2(param2='Привет %s, как дела?')\n",
    "func2(param1='Анатолий')\n",
    "func2(param1='Анатолий', param2='Привет %s, как дела?')"
   ]
  },
  {
   "cell_type": "code",
   "execution_count": 39,
   "metadata": {},
   "outputs": [],
   "source": [
    "# Функции с именоваными и позиционными аргументами\n",
    "def parser(value, parser_func=str, error_msg='Невозможно преобразовать строку \"%s\" к типу \"%s\"', hide_expection=False):\n",
    "    try:\n",
    "        return parser_func(value)\n",
    "    except ValueError as e:\n",
    "        print(error_msg % (value, str(parser_func.__name__)))\n",
    "        if not hide_expection:\n",
    "            raise e\n",
    "        else:\n",
    "            return None"
   ]
  },
  {
   "cell_type": "code",
   "execution_count": 40,
   "metadata": {},
   "outputs": [
    {
     "name": "stdin",
     "output_type": "stream",
     "text": [
      "Введите число а:  a\n"
     ]
    },
    {
     "name": "stdout",
     "output_type": "stream",
     "text": [
      "Невозможно преобразовать строку \"a\" к типу \"int\"\n"
     ]
    },
    {
     "name": "stdin",
     "output_type": "stream",
     "text": [
      "Введите число а:  s\n"
     ]
    },
    {
     "name": "stdout",
     "output_type": "stream",
     "text": [
      "Невозможно преобразовать строку \"s\" к типу \"int\"\n"
     ]
    },
    {
     "name": "stdin",
     "output_type": "stream",
     "text": [
      "Введите число а:  d\n"
     ]
    },
    {
     "name": "stdout",
     "output_type": "stream",
     "text": [
      "Невозможно преобразовать строку \"d\" к типу \"int\"\n"
     ]
    },
    {
     "name": "stdin",
     "output_type": "stream",
     "text": [
      "Введите число а:  e\n"
     ]
    },
    {
     "name": "stdout",
     "output_type": "stream",
     "text": [
      "Невозможно преобразовать строку \"e\" к типу \"int\"\n"
     ]
    },
    {
     "name": "stdin",
     "output_type": "stream",
     "text": [
      "Введите число а:  1\n"
     ]
    },
    {
     "name": "stdout",
     "output_type": "stream",
     "text": [
      "a: 1\n"
     ]
    }
   ],
   "source": [
    "a = None\n",
    "while a is None:\n",
    "    a = parser(input('Введите число а: '), int, hide_expection=True)\n",
    "print(f'a: {a}')"
   ]
  },
  {
   "cell_type": "markdown",
   "metadata": {},
   "source": [
    "## Итераторы, генераторы, генераторы списков"
   ]
  },
  {
   "cell_type": "code",
   "execution_count": 44,
   "metadata": {},
   "outputs": [
    {
     "name": "stdin",
     "output_type": "stream",
     "text": [
      "Введите строку в формате int a\n"
     ]
    },
    {
     "name": "stdout",
     "output_type": "stream",
     "text": [
      "Невозможно преобразовать строку \"a\" к типу \"int\"\n"
     ]
    },
    {
     "name": "stdin",
     "output_type": "stream",
     "text": [
      "Введите строку в формате int 2\n",
      "Введите элимент 0 1\n",
      "Введите элимент 1 2\n"
     ]
    },
    {
     "name": "stdout",
     "output_type": "stream",
     "text": [
      "[1.0, 2.0]\n"
     ]
    }
   ],
   "source": [
    "def infinity_input(type, message=None, **kwargs):\n",
    "    while True:\n",
    "        try:\n",
    "            return parser(input(message or f'Введите строку в формате {type.__name__}'), type, **kwargs)\n",
    "        except ValueError:\n",
    "            pass\n",
    "    \n",
    "# Ввод массива\n",
    "n = infinity_input(int)\n",
    "\n",
    "arr = [infinity_input(float, message=f'Введите элимент {i}') for i in range(n)]\n",
    "\n",
    "print(arr)"
   ]
  },
  {
   "cell_type": "code",
   "execution_count": null,
   "metadata": {},
   "outputs": [],
   "source": []
  }
 ],
 "metadata": {
  "kernelspec": {
   "display_name": "Python 3",
   "language": "python",
   "name": "python3"
  },
  "language_info": {
   "codemirror_mode": {
    "name": "ipython",
    "version": 3
   },
   "file_extension": ".py",
   "mimetype": "text/x-python",
   "name": "python",
   "nbconvert_exporter": "python",
   "pygments_lexer": "ipython3",
   "version": "3.6.5"
  }
 },
 "nbformat": 4,
 "nbformat_minor": 4
}
